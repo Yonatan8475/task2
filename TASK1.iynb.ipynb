{
 "cells": [
  {
   "cell_type": "code",
   "execution_count": 1,
   "metadata": {},
   "outputs": [
    {
     "name": "stdout",
     "output_type": "stream",
     "text": [
      "File saved as papa-what-is-a-neural-network-c5e5cc427c7.txt in directory scraped_articles.\n"
     ]
    }
   ],
   "source": [
    "import os\n",
    "import sys\n",
    "import requests\n",
    "import re\n",
    "from bs4 import BeautifulSoup\n",
    "\n",
    "def get_page(url):\n",
    "    headers = {\n",
    "        'User-Agent': 'Mozilla/5.0'\n",
    "    }\n",
    "\n",
    "    # Check if the URL is from Medium\n",
    "    if not re.match(r'https?://medium.com/', url):\n",
    "        print('Please enter a valid Medium article URL.')\n",
    "        sys.exit(1)\n",
    "\n",
    "    # Send request to the URL\n",
    "    res = requests.get(url, headers=headers)\n",
    "    res.raise_for_status()\n",
    "    soup = BeautifulSoup(res.text, 'html.parser')\n",
    "    return soup\n",
    "\n",
    "def collect_text(soup):\n",
    "    text = f'URL: {url}\\n\\n'\n",
    "    paragraphs = soup.find_all('p')\n",
    "    for para in paragraphs:\n",
    "        text += f\"{para.text}\\n\\n\"\n",
    "    return text\n",
    "\n",
    "def save_file(text):\n",
    "    if not os.path.exists('./scraped_articles'):\n",
    "        os.mkdir('./scraped_articles')\n",
    "    filename = url.split(\"/\")[-1]\n",
    "    filename = re.sub(r'[^\\w\\s-]', '', filename)  # Remove special characters\n",
    "    filename = re.sub(r'\\s+', '_', filename)  # Replace whitespace with underscores\n",
    "    filename = filename.strip('_')  # Remove leading/trailing underscores\n",
    "    filepath = f'scraped_articles/{filename}.txt'\n",
    "\n",
    "    with open(filepath, 'w', encoding='utf-8') as file:\n",
    "        file.write(text)\n",
    "\n",
    "    print(f'File saved as {filename}.txt in directory scraped_articles.')\n",
    "\n",
    "if __name__ == '__main__':\n",
    "    url = 'https://medium.com/@subashgandyer/papa-what-is-a-neural-network-c5e5cc427c7'\n",
    "    text = collect_text(get_page(url))\n",
    "    save_file(text)"
   ]
  }
 ],
 "metadata": {
  "kernelspec": {
   "display_name": "Python 3",
   "language": "python",
   "name": "python3"
  },
  "language_info": {
   "codemirror_mode": {
    "name": "ipython",
    "version": 3
   },
   "file_extension": ".py",
   "mimetype": "text/x-python",
   "name": "python",
   "nbconvert_exporter": "python",
   "pygments_lexer": "ipython3",
   "version": "3.12.3"
  }
 },
 "nbformat": 4,
 "nbformat_minor": 2
}
